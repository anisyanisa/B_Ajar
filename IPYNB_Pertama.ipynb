{
  "nbformat": 4,
  "nbformat_minor": 0,
  "metadata": {
    "colab": {
      "provenance": [],
      "collapsed_sections": [],
      "include_colab_link": true
    },
    "kernelspec": {
      "name": "python3",
      "display_name": "Python 3"
    },
    "language_info": {
      "name": "python"
    }
  },
  "cells": [
    {
      "cell_type": "markdown",
      "metadata": {
        "id": "view-in-github",
        "colab_type": "text"
      },
      "source": [
        "<a href=\"https://colab.research.google.com/github/anisyanisa/B_Ajar/blob/main/IPYNB_Pertama.ipynb\" target=\"_parent\"><img src=\"https://colab.research.google.com/assets/colab-badge.svg\" alt=\"Open In Colab\"/></a>"
      ]
    },
    {
      "cell_type": "markdown",
      "metadata": {
        "id": "LT2EqrDuwwHN"
      },
      "source": [
        "\n",
        "\n",
        "```\n",
        "# This is formatted as code\n",
        "```\n",
        "\n",
        "Berikut adalah program yang mencetak sebuah string (untaian karakter) dan hasil dari suatu ekspresi aritmetika.\n",
        "\n",
        "Jika Anda menemukan tanda `#`, semua instruksi program setelah tanda tersebut pada baris sama akan diabaikan. Ini disebut **komentar** dan berguna untuk: (1) memberikan penjelasan tentang program, (2) membantu mencari bagian program yang salah jika tidak sesuai keinginan."
      ]
    },
    {
      "cell_type": "code",
      "metadata": {
        "colab": {
          "base_uri": "https://localhost:8080/"
        },
        "id": "0gs-JwKvwaEZ",
        "outputId": "84e2cf6a-bcbb-44ac-c5ce-89da875434bf"
      },
      "source": [
        "print(\"Belajar programming asyik.\")\n",
        "print(1+2*3)\n",
        "print(\"1+2*3\", \"adalah\", 1+2*3)\n",
        "#print(\"Saya tidak akan dicetak\")"
      ],
      "execution_count": null,
      "outputs": [
        {
          "output_type": "stream",
          "text": [
            "Belajar programming asyik.\n",
            "7\n",
            "1+2*3 adalah 7\n"
          ],
          "name": "stdout"
        }
      ]
    },
    {
      "cell_type": "markdown",
      "metadata": {
        "id": "oqxv5ieWw960"
      },
      "source": [
        "Dalam programming, **variabel** digunakan untuk menyimpan **data**, mirip dengan matematika. Data memiliki **tipe**. Tipe-tipe data di antararanya `string`, `int` (bilangan bulat), `float` (bilangan pecahan), `boolean` (True / False), dll.\n",
        "\n",
        "Nama variabel ada syaratnya. Misalnya, tidak boleh kata-kata kunci Python yang sudah \"direservasi\" maknanya (mis. tidak boleh ada variabel yang namanya `print`), tidak boleh diawali angka, dll.\n",
        "\n",
        "Python adalah bahasa yang **case-sensitive**, jadi perhatikan penggunaan huruf besar dan kecil!\n",
        "\n",
        "Berbeda dengan matematika, operator `=` di Python berguna untuk melakukan pemberian nilai suatu data pada variabel. Contoh, `x = 3` akan mengasosiasikan `x` dengan angka 3. Ingat, tanda `=` di programming bukan untuk menyatakan kesamaan! (Nanti ada lagi operator `==`). \n",
        "\n",
        "Nilai yang \"tersimpan\" di `x` dapat digunakan dengan cara memanggil `x`. \n",
        "\n",
        "Sejauh ini program Python dapat Anda baca secara linear dari atas ke bawah. Coba baca dan tebak apa yang dilakukan baris program berikut satu per satu. Tebak apa yang dicetak oleh program secara keseluruhan!\n",
        "\n",
        "\n",
        "\n",
        "\n"
      ]
    },
    {
      "cell_type": "code",
      "metadata": {
        "colab": {
          "base_uri": "https://localhost:8080/"
        },
        "id": "WNvBjto-HTXB",
        "outputId": "6c390744-2c8a-4ca6-b1a2-233b5a8ba020"
      },
      "source": [
        "x = 3\n",
        "print(x)\n",
        "print(\"x\", \"bernilai\", x)\n",
        "print(\"x\", \"memiliki tipe\", type(x))\n",
        "x = 5 #nilai x diasosiakan dengan nilai baru 5 (nilai 3 tadi dilupakan)\n",
        "print(\"x\", \"sekarang bernilai\", x)\n",
        "x = x*2\n",
        "print(\"x\", \"sekarang bernilai\", x)\n",
        "x = 3.14\n",
        "print(\"x\", \"sekarang bernilai\", x, \"dan bertipe\", type(x))\n",
        "\n",
        "event1 = \"Olimpiade Tokyo 2020\"\n",
        "print(event1)\n",
        "print(type(event1))\n",
        "\n",
        "y = True \n",
        "print(\"y\", \"bernilai\", y, \"dan bertipe\", type(y))"
      ],
      "execution_count": null,
      "outputs": [
        {
          "output_type": "stream",
          "text": [
            "3\n",
            "x bernilai 3\n",
            "x memiliki tipe <class 'int'>\n",
            "x sekarang bernilai 5\n",
            "x sekarang bernilai 10\n",
            "x sekarang bernilai 3.14 dan bertipe <class 'float'>\n",
            "Olimpiade Tokyo 2020\n",
            "<class 'str'>\n",
            "y bernilai True dan bertipe <class 'bool'>\n"
          ],
          "name": "stdout"
        }
      ]
    },
    {
      "cell_type": "markdown",
      "metadata": {
        "id": "blBAwR4mH94f"
      },
      "source": [
        "\n",
        "Setiap tipe data punya jenis operasinya masing-masing. Misalnya int bisa dikalikan dengan int, namun string tidak bisa dikalikan dengan string. Jadi, pastikan Anda melakukan operasi yang tepat pada variabel Anda.\n",
        "\n",
        "Coba jalankan potongan kode berikut. Coba jalankan juga beberapa instruksi yang tadinya dikomentari (dengan tanda `#`) dengan menghapus tanda pagarnya.\n",
        "\n",
        "Kembalikan lagi programnya seperti semula."
      ]
    },
    {
      "cell_type": "code",
      "metadata": {
        "colab": {
          "base_uri": "https://localhost:8080/"
        },
        "id": "5c0aKctoJ8CN",
        "outputId": "949cbf7a-05b1-48c4-89da-7c418f91b33c"
      },
      "source": [
        "kata1 = \"kata\"\n",
        "kata2 = \"terkait\"\n",
        "print(\"String dapat dijumlahkan (disebut konkatenasi), yaitu disambung, seperti\", kata1 + kata2)\n",
        "#print(event1 * event2)\n",
        "\n",
        "kondisi1 = True\n",
        "kondisi2 = (1 > 2)\n",
        "print(kondisi2)\n",
        "print(kondisi1 and kondisi2)\n",
        "print(kondisi1 or kondisi2)\n",
        "print(not kondisi1 and ((not kondisi2) or kondisi1))"
      ],
      "execution_count": null,
      "outputs": [
        {
          "output_type": "stream",
          "text": [
            "String dapat dijumlahkan (disebut konkatenasi), yaitu disambung, seperti kataterkait\n",
            "False\n",
            "False\n",
            "True\n",
            "False\n"
          ],
          "name": "stdout"
        }
      ]
    },
    {
      "cell_type": "markdown",
      "metadata": {
        "id": "PdeBYdE6NnV_"
      },
      "source": [
        "Untuk apa kondisi `True` dan `False`?\n",
        "Untuk mengatur kapan suatu instruksi dieksekusi atau tidak dieksekusi.\n",
        "\n",
        "Kita gunakan perintah `if` dan `if-else`.\n",
        "\n",
        "Python memaksa pengguna program menstruktur kodenya dengan melakukan penjorokan (indentasi) untuk menyatakan bahwa beberapa baris instruksi akan dianggap sebagai satu blok tertentu (yang merupakan bagian dari suatu instruksi yang lebih umum). Sebagai contoh, program yang menggunakan `if` berbentuk:\n",
        "\n",
        "```\n",
        "if <kondisi>:\n",
        "  <instruksi_1>\n",
        "  <instruksi_2>\n",
        "  ...\n",
        "  <instruksi_n>\n",
        "<instruksi_lain>\n",
        "\n",
        "```\n",
        "\n",
        "Secara intuitif, `<instruksi1>,...,<instruksin>` akan dieksekusi jika `kondisi` bernilai True. Sementara itu, jika `kondisi` bernilai false maka `<instruksi1>,...,<instruksin>` seluruhnya tidak akan dieksekusi. Instruksi `<instruksi_lain>` akan dieksekusi seperti biasa, terlepas apakah `<kondisi>` benar atau salah.\n",
        "\n",
        "Struktur lain yang mungkin bermanfaat untuk diketahui adalah `if-else` dan `if-elif-else`. Coba ubah-ubah nilai kondisi program berikut agar Anda memahami cara kerjanya.\n"
      ]
    },
    {
      "cell_type": "code",
      "metadata": {
        "id": "EBqqlR7iVD0Q",
        "colab": {
          "base_uri": "https://localhost:8080/"
        },
        "outputId": "954a6c56-c72d-4507-fd12-37d473c69bca"
      },
      "source": [
        "pi = 3.14\n",
        "jarijari = -1 #coba ganti nilai -1 ini dengan nilai lain\n",
        "if (jarijari > 0):\n",
        "  luas = pi * r * r\n",
        "  keliling = 2 * pi * r\n",
        "  print(\"luas = \", luas)\n",
        "  print(\"keliling = \", keliling)\n",
        "else:\n",
        "  print(\"jari-jari harus positif\")"
      ],
      "execution_count": null,
      "outputs": [
        {
          "output_type": "stream",
          "text": [
            "jari-jari harus positif\n"
          ],
          "name": "stdout"
        }
      ]
    },
    {
      "cell_type": "code",
      "metadata": {
        "id": "wKGjhi0cV6KG",
        "colab": {
          "base_uri": "https://localhost:8080/"
        },
        "outputId": "f9d6dfba-0a56-49a6-f660-c41e595a84f8"
      },
      "source": [
        "nilai = 75\n",
        "if nilai >= 85:\n",
        "  print(\"Nilai A\")\n",
        "elif nilai >= 75:\n",
        "  print(\"Nilai B\")\n",
        "elif nilai >= 65:\n",
        "  print(\"Nilai C\")\n",
        "else:\n",
        "  print(\"Nilai D\")"
      ],
      "execution_count": null,
      "outputs": [
        {
          "output_type": "stream",
          "text": [
            "Nilai B\n"
          ],
          "name": "stdout"
        }
      ]
    },
    {
      "cell_type": "markdown",
      "metadata": {
        "id": "giblmWdVJ2UO"
      },
      "source": [
        "###Latihan 1\n",
        "\n"
      ]
    },
    {
      "cell_type": "markdown",
      "metadata": {
        "id": "yys5xsF4UfSw"
      },
      "source": [
        "Body Mass Index (BMI) adalah sebuah bilangan yang dihitung dari berat dan tinggi seseorang. Berdasarkan Centers for Disease Control, nilai BMI merupakan indikator yang cukup bisa dipercaya untuk kondisi lemak di tubuh seseorang. BMI tidak mengukur lemak tubuh secara langsung, namun riset sudah menunjukkan bahwa hasilnya berkorelasi dengan pengukuran lemak tubuh secara langsung, seperti melalui pembobotan di bawah air. Rumus BMI adalah $\\frac{berat}{tinggi^2}$ di mana $berat$ bersatuan kilogram dan $tinggi$ bersatuan **meter**. Sebagai contoh, seorang dewasa dengan berat 80 kg dan tinggi 170 cm akan memiliki BMI 27.681....\n",
        "\n",
        "\n",
        "Buat sebuah program yang meminta berat dan tinggi pengguna (dalam kilogram dan centimeter) lalu cetak BMI-nya.\n",
        "\n",
        "Program berikut meminta user memasukkan tinggi dan beratnya, namun masih keliru dalam perhitungan BMI-nya. Perbaikilah program berikut agar bekerja dengan baik."
      ]
    },
    {
      "cell_type": "code",
      "metadata": {
        "colab": {
          "base_uri": "https://localhost:8080/"
        },
        "id": "zt7dKXq3W6R3",
        "outputId": "bef7a787-461d-43cd-fbd4-cbed0e82dc57"
      },
      "source": [
        "#BMI Program \n",
        "berat = input(\"Masukkan berat Anda (dalam kg): \")\n",
        "tinggi = input(\"Masukkan tinggi Anda (dalam centimeter): \")\n",
        "\n",
        "berat = float(berat) #mengubah tipe data masukan pengguna dari baris 2 dan 3 ke bilangan pecahan float\n",
        "tinggi = float(tinggi)\n",
        "\n",
        "print(\"Berat yang dimasukkan:\", berat, \"kg\")\n",
        "print(\"Tinggi yang dimasukkan:\", tinggi, \"cm\")\n",
        "print(\"======================================\")\n",
        "print(\"BMI Anda adalah\", bmi)"
      ],
      "execution_count": null,
      "outputs": [
        {
          "output_type": "stream",
          "text": [
            "Masukkan berat Anda (dalam kg): 70\n",
            "Masukkan tinggi Anda (dalam centimeter): 180\n",
            "Berat yang dimasukkan: 70.0 kg\n",
            "Tinggi yang dimasukkan: 180.0 cm\n",
            "======================================\n",
            "BMI Anda adalah 21.604938271604937\n"
          ],
          "name": "stdout"
        }
      ]
    },
    {
      "cell_type": "markdown",
      "metadata": {
        "id": "nQc4KzTlYOE2"
      },
      "source": [
        "### Latihan 2"
      ]
    },
    {
      "cell_type": "markdown",
      "metadata": {
        "id": "a8BoxmHbYSe0"
      },
      "source": [
        "Pada latihan sebelumnya, Anda diminta untuk menghitung BMI seseorang. Lengkapi program Anda dengan mencetak di kategori apa BMI tersebut berada berdasarkan standar berat badan CDC berikut: \n",
        "\n",
        "| BMI | Standar Berat | \n",
        "| --- | --- | \n",
        "| di bawah 18.5 | underweight |\n",
        "| 18.5-24.9 | normal |\n",
        "| 25.0-29.9 | overweight |\n",
        "| 30.0 ke atas | obese | \n",
        "\n",
        "Tambahkan sel kode di bawah, salin dan lengkapi program dari Latihan 1. \n",
        "\n"
      ]
    }
  ]
}